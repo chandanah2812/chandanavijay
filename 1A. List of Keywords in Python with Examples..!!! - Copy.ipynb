{
 "cells": [
  {
   "cell_type": "markdown",
   "id": "750296f9",
   "metadata": {},
   "source": [
    "# List of Keywords in Python\n",
    "\n",
    "This segment provides brief information on all keywords used in Python.\n",
    "\n",
    "Keywords are the reserved words in Python. We cannot use a keyword as a variable name, function name or any other identifier.\n",
    "\n",
    "Here's a list of all keywords in Python Programming"
   ]
  },
  {
   "cell_type": "markdown",
   "id": "ec0ed549",
   "metadata": {},
   "source": [
    "Keywords in Python programming language\n",
    "\n",
    "1. False\t2. await\t3. else\t4. import\t5. pass 6. None\t7. break\t8. except\t9. in\t10. raise 11. True\t12. class\n",
    "\n",
    "13. finally\t14. is\t15. return 16. and\t17. continue\t18. for\t19. lambda\t20. try  21. as\t22. def\t23. from\t24. nonlocal\n",
    "\n",
    "25. while 26. assert\t27. del\t28. global\t29. not\t30. with 31. async 32. elif\t33. if\t34. or\t35. yield"
   ]
  },
  {
   "cell_type": "markdown",
   "id": "117359fc",
   "metadata": {},
   "source": [
    "The above keywords may get altered in different versions of Python. Some extra might get added or some might be removed. You can always get the list of keywords in your current version by typing the following in the prompt."
   ]
  },
  {
   "cell_type": "code",
   "execution_count": 1,
   "id": "aa2ec904",
   "metadata": {},
   "outputs": [
    {
     "name": "stdout",
     "output_type": "stream",
     "text": [
      "['False', 'None', 'True', '__peg_parser__', 'and', 'as', 'assert', 'async', 'await', 'break', 'class', 'continue', 'def', 'del', 'elif', 'else', 'except', 'finally', 'for', 'from', 'global', 'if', 'import', 'in', 'is', 'lambda', 'nonlocal', 'not', 'or', 'pass', 'raise', 'return', 'try', 'while', 'with', 'yield']\n"
     ]
    }
   ],
   "source": [
    "import keyword\n",
    "print(keyword.kwlist)"
   ]
  },
  {
   "cell_type": "markdown",
   "id": "714ff2c4",
   "metadata": {},
   "source": [
    "# Description of Keywords in Python with examples\n",
    "\n",
    "# True, False\n",
    "\n",
    "True and False are truth values in Python. They are the results of comparison operations or logical (Boolean) operations in Python. For example:"
   ]
  },
  {
   "cell_type": "code",
   "execution_count": 11,
   "id": "d63db6dd",
   "metadata": {},
   "outputs": [
    {
     "data": {
      "text/plain": [
       "True"
      ]
     },
     "execution_count": 11,
     "metadata": {},
     "output_type": "execute_result"
    }
   ],
   "source": [
    "1 == 1\n",
    "#True"
   ]
  },
  {
   "cell_type": "code",
   "execution_count": 4,
   "id": "0e7392ac",
   "metadata": {},
   "outputs": [
    {
     "data": {
      "text/plain": [
       "True"
      ]
     },
     "execution_count": 4,
     "metadata": {},
     "output_type": "execute_result"
    }
   ],
   "source": [
    "5 > 3\n",
    "#True"
   ]
  },
  {
   "cell_type": "code",
   "execution_count": 5,
   "id": "99ab37b4",
   "metadata": {},
   "outputs": [
    {
     "data": {
      "text/plain": [
       "True"
      ]
     },
     "execution_count": 5,
     "metadata": {},
     "output_type": "execute_result"
    }
   ],
   "source": [
    "True or False\n",
    "#True"
   ]
  },
  {
   "cell_type": "code",
   "execution_count": 10,
   "id": "0ed071b9",
   "metadata": {},
   "outputs": [
    {
     "data": {
      "text/plain": [
       "True"
      ]
     },
     "execution_count": 10,
     "metadata": {},
     "output_type": "execute_result"
    }
   ],
   "source": [
    "True and True\n",
    "#True"
   ]
  },
  {
   "cell_type": "code",
   "execution_count": 6,
   "id": "836837ae",
   "metadata": {},
   "outputs": [
    {
     "data": {
      "text/plain": [
       "False"
      ]
     },
     "execution_count": 6,
     "metadata": {},
     "output_type": "execute_result"
    }
   ],
   "source": [
    "10 <= 1\n",
    "#False"
   ]
  },
  {
   "cell_type": "code",
   "execution_count": 7,
   "id": "30aabc63",
   "metadata": {},
   "outputs": [
    {
     "data": {
      "text/plain": [
       "False"
      ]
     },
     "execution_count": 7,
     "metadata": {},
     "output_type": "execute_result"
    }
   ],
   "source": [
    "3 > 7\n",
    "#False"
   ]
  },
  {
   "cell_type": "code",
   "execution_count": 8,
   "id": "31f1c6d3",
   "metadata": {},
   "outputs": [
    {
     "data": {
      "text/plain": [
       "False"
      ]
     },
     "execution_count": 8,
     "metadata": {},
     "output_type": "execute_result"
    }
   ],
   "source": [
    "True and False\n",
    "#False"
   ]
  },
  {
   "cell_type": "markdown",
   "id": "c4887a42",
   "metadata": {},
   "source": [
    "Here we can see that the first four statements are true so the interpreter returns True and returns False for the remaining three statements. True and False in python is same as 1 and 0. This can be justified with the following example:"
   ]
  },
  {
   "cell_type": "code",
   "execution_count": 12,
   "id": "974c5e9e",
   "metadata": {},
   "outputs": [
    {
     "data": {
      "text/plain": [
       "True"
      ]
     },
     "execution_count": 12,
     "metadata": {},
     "output_type": "execute_result"
    }
   ],
   "source": [
    "True == 1\n",
    "#True"
   ]
  },
  {
   "cell_type": "code",
   "execution_count": 13,
   "id": "ea40ac28",
   "metadata": {},
   "outputs": [
    {
     "data": {
      "text/plain": [
       "True"
      ]
     },
     "execution_count": 13,
     "metadata": {},
     "output_type": "execute_result"
    }
   ],
   "source": [
    "False == 0\n",
    "#True"
   ]
  },
  {
   "cell_type": "code",
   "execution_count": 14,
   "id": "d21ac633",
   "metadata": {},
   "outputs": [
    {
     "data": {
      "text/plain": [
       "2"
      ]
     },
     "execution_count": 14,
     "metadata": {},
     "output_type": "execute_result"
    }
   ],
   "source": [
    "True + True\n",
    "#2"
   ]
  },
  {
   "cell_type": "code",
   "execution_count": 15,
   "id": "7fc19a20",
   "metadata": {},
   "outputs": [
    {
     "data": {
      "text/plain": [
       "0"
      ]
     },
     "execution_count": 15,
     "metadata": {},
     "output_type": "execute_result"
    }
   ],
   "source": [
    "False + False\n",
    "#0"
   ]
  },
  {
   "cell_type": "markdown",
   "id": "0a2ea40b",
   "metadata": {},
   "source": [
    "None\n",
    "\n",
    "None is a special constant in Python that represents the absence of a value or a null value.\n",
    "\n",
    "It is an object of its own datatype, the NoneType. We cannot create multiple None objects but can assign it to variables. These variables will be equal to one another."
   ]
  },
  {
   "cell_type": "markdown",
   "id": "5fa07778",
   "metadata": {},
   "source": [
    "We must take special care that None does not imply False, 0 or any empty list, dictionary, string etc. For example:"
   ]
  },
  {
   "cell_type": "code",
   "execution_count": 16,
   "id": "21adf770",
   "metadata": {},
   "outputs": [
    {
     "data": {
      "text/plain": [
       "False"
      ]
     },
     "execution_count": 16,
     "metadata": {},
     "output_type": "execute_result"
    }
   ],
   "source": [
    "None == 0\n",
    "#False"
   ]
  },
  {
   "cell_type": "code",
   "execution_count": 17,
   "id": "94c85762",
   "metadata": {},
   "outputs": [
    {
     "data": {
      "text/plain": [
       "False"
      ]
     },
     "execution_count": 17,
     "metadata": {},
     "output_type": "execute_result"
    }
   ],
   "source": [
    "None == []\n",
    "#False"
   ]
  },
  {
   "cell_type": "code",
   "execution_count": 18,
   "id": "78b1ff94",
   "metadata": {},
   "outputs": [
    {
     "data": {
      "text/plain": [
       "False"
      ]
     },
     "execution_count": 18,
     "metadata": {},
     "output_type": "execute_result"
    }
   ],
   "source": [
    "None == False\n",
    "#False"
   ]
  },
  {
   "cell_type": "code",
   "execution_count": 19,
   "id": "b65b0275",
   "metadata": {},
   "outputs": [
    {
     "data": {
      "text/plain": [
       "True"
      ]
     },
     "execution_count": 19,
     "metadata": {},
     "output_type": "execute_result"
    }
   ],
   "source": [
    "x = None\n",
    "y = None\n",
    "x == y\n",
    "#True"
   ]
  },
  {
   "cell_type": "markdown",
   "id": "f6f91230",
   "metadata": {},
   "source": [
    "Void functions that do not return anything will return a None object automatically. None is also returned by functions in which the program flow does not encounter a return statement. For example:"
   ]
  },
  {
   "cell_type": "code",
   "execution_count": 20,
   "id": "4fd77484",
   "metadata": {},
   "outputs": [
    {
     "name": "stdout",
     "output_type": "stream",
     "text": [
      "None\n"
     ]
    }
   ],
   "source": [
    "def a_void_function():\n",
    "    a = 1\n",
    "    b = 2\n",
    "    c = a + b\n",
    "\n",
    "x = a_void_function()\n",
    "print(x)"
   ]
  },
  {
   "cell_type": "markdown",
   "id": "7c63f6b8",
   "metadata": {},
   "source": [
    "This program has a function that does not return a value, although it does some operations inside. So when we print x, we get None which is returned automatically (implicitly). Similarly, here is another example:"
   ]
  },
  {
   "cell_type": "code",
   "execution_count": 21,
   "id": "64476d33",
   "metadata": {},
   "outputs": [
    {
     "name": "stdout",
     "output_type": "stream",
     "text": [
      "None\n"
     ]
    }
   ],
   "source": [
    "def improper_return_function(a):\n",
    "    if (a % 2) == 0:\n",
    "        return True\n",
    "\n",
    "x = improper_return_function(3)\n",
    "print(x)"
   ]
  },
  {
   "cell_type": "markdown",
   "id": "df20518c",
   "metadata": {},
   "source": [
    "Although this function has a return statement, it is not reached in every case. The function will return True only when the input is even.\n",
    "\n",
    "If we give the function an odd number, None is returned implicitly."
   ]
  },
  {
   "cell_type": "markdown",
   "id": "1c0198e0",
   "metadata": {},
   "source": [
    "# and, or , not\n",
    "\n",
    "and, or, not are the logical operators in Python. and will result into True only if both the operands are True. The truth table for and is given below:"
   ]
  },
  {
   "cell_type": "raw",
   "id": "8eb65f5b",
   "metadata": {},
   "source": [
    "Truth table for and\n",
    "\n",
    "  A\t      B\t   A and B\n",
    "True\tTrue\tTrue\n",
    "True\tFalse\tFalse\n",
    "False\tTrue\tFalse\n",
    "False\tFalse\tFalse"
   ]
  },
  {
   "cell_type": "markdown",
   "id": "cd9557c5",
   "metadata": {},
   "source": [
    "or will result into True if any of the operands is True. The truth table for or is given below:"
   ]
  },
  {
   "cell_type": "raw",
   "id": "890276b3",
   "metadata": {},
   "source": [
    "Truth table for or\n",
    "\n",
    "  A\t      B\t   A or B\n",
    "True\tTrue\tTrue\n",
    "True\tFalse\tTrue\n",
    "False\tTrue\tTrue\n",
    "False\tFalse\tFalse"
   ]
  },
  {
   "cell_type": "markdown",
   "id": "c30028e1",
   "metadata": {},
   "source": [
    "not operator is used to invert the truth value. The truth table for not is given below:"
   ]
  },
  {
   "cell_type": "raw",
   "id": "cb5cee07",
   "metadata": {},
   "source": [
    "Truth tabel for not\n",
    "\n",
    " A\t    not A\n",
    "True\tFalse\n",
    "False\tTrue"
   ]
  },
  {
   "cell_type": "markdown",
   "id": "b879a783",
   "metadata": {},
   "source": [
    "some example of their usage are given below"
   ]
  },
  {
   "cell_type": "code",
   "execution_count": 22,
   "id": "c0140d05",
   "metadata": {},
   "outputs": [
    {
     "data": {
      "text/plain": [
       "False"
      ]
     },
     "execution_count": 22,
     "metadata": {},
     "output_type": "execute_result"
    }
   ],
   "source": [
    "True and False\n",
    "#False"
   ]
  },
  {
   "cell_type": "code",
   "execution_count": 23,
   "id": "4e2fc14b",
   "metadata": {},
   "outputs": [
    {
     "data": {
      "text/plain": [
       "True"
      ]
     },
     "execution_count": 23,
     "metadata": {},
     "output_type": "execute_result"
    }
   ],
   "source": [
    "True or False\n",
    "#True"
   ]
  },
  {
   "cell_type": "code",
   "execution_count": 24,
   "id": "519f9b92",
   "metadata": {},
   "outputs": [
    {
     "data": {
      "text/plain": [
       "True"
      ]
     },
     "execution_count": 24,
     "metadata": {},
     "output_type": "execute_result"
    }
   ],
   "source": [
    "not False\n",
    "#True"
   ]
  },
  {
   "cell_type": "markdown",
   "id": "6402e4c9",
   "metadata": {},
   "source": [
    "# as\n",
    "\n",
    "as is used to create an alias while importing a module. It means giving a different name (user-defined) to a module while importing it.\n",
    "\n",
    "As for example, Python has a standard module called math. Suppose we want to calculate what cosine pi is using an alias. We can do it as follows using as:"
   ]
  },
  {
   "cell_type": "code",
   "execution_count": 25,
   "id": "1e50d6b2",
   "metadata": {},
   "outputs": [
    {
     "data": {
      "text/plain": [
       "-1.0"
      ]
     },
     "execution_count": 25,
     "metadata": {},
     "output_type": "execute_result"
    }
   ],
   "source": [
    "import math as myAlias\n",
    "\n",
    "myAlias.cos(myAlias.pi)\n",
    "#-1.0"
   ]
  },
  {
   "cell_type": "markdown",
   "id": "818d681f",
   "metadata": {},
   "source": [
    "Here we imported the math module by giving it the name myAlias. Now we can refer to the math module with this name. Using this name we calculated cos(pi) and got -1.0 as the answer."
   ]
  },
  {
   "cell_type": "markdown",
   "id": "25d42e3d",
   "metadata": {},
   "source": [
    "# assert\n",
    "\n",
    "assert is used for debugging purposes.\n",
    "\n",
    "While programming, sometimes we wish to know the internal state or check if our assumptions are true. assert helps us do this and find bugs more conveniently. assert is followed by a condition.\n",
    "\n",
    "If the condition is true, nothing happens. But if the condition is false, AssertionError is raised. For example:"
   ]
  },
  {
   "cell_type": "code",
   "execution_count": 26,
   "id": "c6685aa8",
   "metadata": {},
   "outputs": [
    {
     "ename": "AssertionError",
     "evalue": "",
     "output_type": "error",
     "traceback": [
      "\u001b[1;31m---------------------------------------------------------------------------\u001b[0m",
      "\u001b[1;31mAssertionError\u001b[0m                            Traceback (most recent call last)",
      "\u001b[1;32m~\\AppData\\Local\\Temp/ipykernel_11312/3591362948.py\u001b[0m in \u001b[0;36m<module>\u001b[1;34m\u001b[0m\n\u001b[0;32m      1\u001b[0m \u001b[0ma\u001b[0m \u001b[1;33m=\u001b[0m \u001b[1;36m4\u001b[0m\u001b[1;33m\u001b[0m\u001b[1;33m\u001b[0m\u001b[0m\n\u001b[0;32m      2\u001b[0m \u001b[1;32massert\u001b[0m \u001b[0ma\u001b[0m \u001b[1;33m<\u001b[0m \u001b[1;36m5\u001b[0m\u001b[1;33m\u001b[0m\u001b[1;33m\u001b[0m\u001b[0m\n\u001b[1;32m----> 3\u001b[1;33m \u001b[1;32massert\u001b[0m \u001b[0ma\u001b[0m \u001b[1;33m>\u001b[0m \u001b[1;36m5\u001b[0m\u001b[1;33m\u001b[0m\u001b[1;33m\u001b[0m\u001b[0m\n\u001b[0m\u001b[0;32m      4\u001b[0m \u001b[1;33m\u001b[0m\u001b[0m\n\u001b[0;32m      5\u001b[0m \u001b[1;31m#Output\u001b[0m\u001b[1;33m\u001b[0m\u001b[1;33m\u001b[0m\u001b[0m\n",
      "\u001b[1;31mAssertionError\u001b[0m: "
     ]
    }
   ],
   "source": [
    "a = 4\n",
    "assert a < 5\n",
    "assert a > 5\n",
    "\n",
    "#Output\n",
    "'''\n",
    "Traceback (most recent call last):\n",
    "  File \"<string>\", line 301, in runcode\n",
    "  File \"<interactive input>\", line 1, in <module>\n",
    "AssertionError'''"
   ]
  },
  {
   "cell_type": "markdown",
   "id": "752de8ac",
   "metadata": {},
   "source": [
    "For our better understanding, we can also provide a message to be printed with the AssertionError."
   ]
  },
  {
   "cell_type": "code",
   "execution_count": 27,
   "id": "b3328e3d",
   "metadata": {},
   "outputs": [
    {
     "ename": "AssertionError",
     "evalue": "The value of 'a' is too small",
     "output_type": "error",
     "traceback": [
      "\u001b[1;31m---------------------------------------------------------------------------\u001b[0m",
      "\u001b[1;31mAssertionError\u001b[0m                            Traceback (most recent call last)",
      "\u001b[1;32m~\\AppData\\Local\\Temp/ipykernel_11312/3006894490.py\u001b[0m in \u001b[0;36m<module>\u001b[1;34m\u001b[0m\n\u001b[0;32m      1\u001b[0m \u001b[0ma\u001b[0m \u001b[1;33m=\u001b[0m \u001b[1;36m4\u001b[0m\u001b[1;33m\u001b[0m\u001b[1;33m\u001b[0m\u001b[0m\n\u001b[1;32m----> 2\u001b[1;33m \u001b[1;32massert\u001b[0m \u001b[0ma\u001b[0m \u001b[1;33m>\u001b[0m \u001b[1;36m5\u001b[0m\u001b[1;33m,\u001b[0m \u001b[1;34m\"The value of 'a' is too small\"\u001b[0m\u001b[1;33m\u001b[0m\u001b[1;33m\u001b[0m\u001b[0m\n\u001b[0m",
      "\u001b[1;31mAssertionError\u001b[0m: The value of 'a' is too small"
     ]
    }
   ],
   "source": [
    "a = 4\n",
    "assert a > 5, \"The value of 'a' is too small\""
   ]
  },
  {
   "cell_type": "markdown",
   "id": "a1352e10",
   "metadata": {},
   "source": [
    "At this point we can note that,\n",
    "\n",
    "assert condition, message\n",
    "\n",
    "is equivalent to,\n",
    "\n",
    "if not condition:\n",
    "\n",
    "    raise AssertionError(message)"
   ]
  },
  {
   "cell_type": "markdown",
   "id": "bd3df7a5",
   "metadata": {},
   "source": [
    "# del\n",
    "\n",
    "del is used to delete the reference to an object. Everything is object in Python. We can delete a variable reference using del"
   ]
  },
  {
   "cell_type": "code",
   "execution_count": 33,
   "id": "ab260cb3",
   "metadata": {},
   "outputs": [
    {
     "ename": "NameError",
     "evalue": "name 'a' is not defined",
     "output_type": "error",
     "traceback": [
      "\u001b[1;31m---------------------------------------------------------------------------\u001b[0m",
      "\u001b[1;31mNameError\u001b[0m                                 Traceback (most recent call last)",
      "\u001b[1;32m~\\AppData\\Local\\Temp/ipykernel_11312/701608430.py\u001b[0m in \u001b[0;36m<module>\u001b[1;34m\u001b[0m\n\u001b[0;32m      1\u001b[0m \u001b[0ma\u001b[0m \u001b[1;33m=\u001b[0m \u001b[0mb\u001b[0m \u001b[1;33m=\u001b[0m \u001b[1;36m5\u001b[0m\u001b[1;33m\u001b[0m\u001b[1;33m\u001b[0m\u001b[0m\n\u001b[0;32m      2\u001b[0m \u001b[1;32mdel\u001b[0m \u001b[0ma\u001b[0m\u001b[1;33m\u001b[0m\u001b[1;33m\u001b[0m\u001b[0m\n\u001b[1;32m----> 3\u001b[1;33m \u001b[0ma\u001b[0m\u001b[1;33m\u001b[0m\u001b[1;33m\u001b[0m\u001b[0m\n\u001b[0m",
      "\u001b[1;31mNameError\u001b[0m: name 'a' is not defined"
     ]
    }
   ],
   "source": [
    "a = b = 5\n",
    "del a       #we have deleted a\n",
    "a       #throws error"
   ]
  },
  {
   "cell_type": "markdown",
   "id": "13fc147b",
   "metadata": {},
   "source": [
    "Here we can see that the reference of the variable a was deleted. So, it is no longer defined. But b still exists.\n",
    "\n",
    "del is also used to delete items from a list or a dictionary:"
   ]
  },
  {
   "cell_type": "code",
   "execution_count": 34,
   "id": "9b15af25",
   "metadata": {},
   "outputs": [
    {
     "data": {
      "text/plain": [
       "['x', 'z']"
      ]
     },
     "execution_count": 34,
     "metadata": {},
     "output_type": "execute_result"
    }
   ],
   "source": [
    "a = ['x','y','z']\n",
    "del a[1]\n",
    "a"
   ]
  },
  {
   "cell_type": "markdown",
   "id": "d03268d2",
   "metadata": {},
   "source": [
    "# from, import\n",
    "\n",
    "import keyword is used to import modules into the current namespace. from…import is used to import specific attributes or functions into the current namespace. For example:\n",
    "\n",
    "import math\n",
    "\n",
    "will import the math module. Now we can use the cos() function inside it as math.cos(). But if we wanted to import just the cos() function, this can done using from as\n",
    "\n",
    "from math import cos\n",
    "\n",
    "now we can use the function simply as cos(), no need to write math.cos()."
   ]
  },
  {
   "cell_type": "code",
   "execution_count": 35,
   "id": "91b477ef",
   "metadata": {},
   "outputs": [],
   "source": [
    "import math #importing math module"
   ]
  },
  {
   "cell_type": "code",
   "execution_count": 36,
   "id": "26dfffc9",
   "metadata": {},
   "outputs": [],
   "source": [
    "from math import cos #importing only cos function from math module"
   ]
  },
  {
   "cell_type": "markdown",
   "id": "ac009879",
   "metadata": {},
   "source": [
    "# lambda\n",
    "\n",
    "lambda is used to create an anonymous function (function with no name). It is an inline function that does not contain a return statement. It consists of an expression that is evaluated and returned. For example:"
   ]
  },
  {
   "cell_type": "code",
   "execution_count": 37,
   "id": "07358f01",
   "metadata": {},
   "outputs": [
    {
     "name": "stdout",
     "output_type": "stream",
     "text": [
      "2\n",
      "4\n",
      "6\n",
      "8\n",
      "10\n"
     ]
    }
   ],
   "source": [
    "a = lambda x: x*2\n",
    "for i in range(1,6):\n",
    "    print(a(i))"
   ]
  },
  {
   "cell_type": "markdown",
   "id": "71018acd",
   "metadata": {},
   "source": [
    "Here, we have created an inline function that doubles the value, using the lambda statement. We used this to double the values in a list containing 1 to 5."
   ]
  },
  {
   "cell_type": "markdown",
   "id": "8ec8f9e9",
   "metadata": {},
   "source": [
    "# global\n",
    "\n",
    "global is used to declare that a variable inside the function is global (outside the function).\n",
    "\n",
    "If we need to read the value of a global variable, it is not necessary to define it as global. This is understood.\n",
    "\n",
    "If we need to modify the value of a global variable inside a function, then we must declare it with global. Otherwise, a local variable with that name is created.\n",
    "\n",
    "Following example will help us clarify this."
   ]
  },
  {
   "cell_type": "code",
   "execution_count": 39,
   "id": "90fdd94b",
   "metadata": {},
   "outputs": [
    {
     "name": "stdout",
     "output_type": "stream",
     "text": [
      "10\n",
      "5\n",
      "5\n"
     ]
    }
   ],
   "source": [
    "globvar = 10\n",
    "def read1():\n",
    "    print(globvar)\n",
    "def write1():\n",
    "    global globvar\n",
    "    globvar = 5\n",
    "def write2():\n",
    "    globvar = 15\n",
    "\n",
    "read1() #for printing\n",
    "write1() #value changed of global variable\n",
    "read1() #for printing\n",
    "write2() #value  didnt changed of global variable\n",
    "read1() #for printing"
   ]
  },
  {
   "cell_type": "markdown",
   "id": "faf7c37f",
   "metadata": {},
   "source": [
    "Here, the read1() function is just reading the value of globvar. So, we do not need to declare it as global. But the write1() function is modifying the value, so we need to declare the variable as global.\n",
    "\n",
    "We can see in our output that the modification did take place (10 is changed to 5). The write2() also tries to modify this value. But we have not declared it as global.\n",
    "\n",
    "Hence, a new local variable globvar is created which is not visible outside this function. Although we modify this local variable to 15, the global variable remains unchanged. This is clearly visible in our output."
   ]
  },
  {
   "cell_type": "markdown",
   "id": "278ed8f8",
   "metadata": {},
   "source": [
    "# nonlocal\n",
    "\n",
    "The use of nonlocal keyword is very much similar to the global keyword. nonlocal is used to declare that a variable inside a nested function (function inside a function) is not local to it, meaning it lies in the outer inclosing function. If we need to modify the value of a non-local variable inside a nested function, then we must declare it with nonlocal. Otherwise a local variable with that name is created inside the nested function. Following example will help us clarify this."
   ]
  },
  {
   "cell_type": "code",
   "execution_count": 40,
   "id": "0ba604ae",
   "metadata": {},
   "outputs": [
    {
     "name": "stdout",
     "output_type": "stream",
     "text": [
      "Inner function:  10\n",
      "Outer function:  10\n"
     ]
    }
   ],
   "source": [
    "def outer_function():\n",
    "    a = 5\n",
    "    def inner_function():\n",
    "        nonlocal a\n",
    "        a = 10\n",
    "        print(\"Inner function: \",a)\n",
    "    inner_function()\n",
    "    print(\"Outer function: \",a)\n",
    "\n",
    "outer_function()"
   ]
  },
  {
   "cell_type": "markdown",
   "id": "35b2ea49",
   "metadata": {},
   "source": [
    "Here, the inner_function() is nested within the outer_function.\n",
    "\n",
    "The variable a is in the outer_function(). So, if we want to modify it in the inner_function(), we must declare it as nonlocal. Notice that a is not a global variable.\n",
    "\n",
    "Hence, we see from the output that the variable was successfully modified inside the nested inner_function(). The result of not using the nonlocal keyword is as follows:"
   ]
  },
  {
   "cell_type": "code",
   "execution_count": 41,
   "id": "ee7e121c",
   "metadata": {},
   "outputs": [
    {
     "name": "stdout",
     "output_type": "stream",
     "text": [
      "Inner function:  10\n",
      "Outer function:  5\n"
     ]
    }
   ],
   "source": [
    "def outer_function():\n",
    "    a = 5\n",
    "    def inner_function():\n",
    "        a = 10\n",
    "        print(\"Inner function: \",a)\n",
    "    inner_function()\n",
    "    print(\"Outer function: \",a)\n",
    "\n",
    "outer_function()"
   ]
  },
  {
   "cell_type": "code",
   "execution_count": null,
   "id": "aa7878fc",
   "metadata": {},
   "outputs": [],
   "source": []
  }
 ],
 "metadata": {
  "kernelspec": {
   "display_name": "Python 3 (ipykernel)",
   "language": "python",
   "name": "python3"
  },
  "language_info": {
   "codemirror_mode": {
    "name": "ipython",
    "version": 3
   },
   "file_extension": ".py",
   "mimetype": "text/x-python",
   "name": "python",
   "nbconvert_exporter": "python",
   "pygments_lexer": "ipython3",
   "version": "3.9.7"
  }
 },
 "nbformat": 4,
 "nbformat_minor": 5
}
